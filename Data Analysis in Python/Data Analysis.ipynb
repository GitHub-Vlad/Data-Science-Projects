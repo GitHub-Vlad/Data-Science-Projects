{
 "cells": [
  {
   "attachments": {},
   "cell_type": "markdown",
   "metadata": {},
   "source": []
  },
  {
   "attachments": {},
   "cell_type": "markdown",
   "metadata": {},
   "source": [
    "Introduction"
   ]
  },
  {
   "attachments": {},
   "cell_type": "markdown",
   "metadata": {},
   "source": [
    "The data set I chose was an HR data set used in the HR Metrics and Analytics department at the New England College of Business. This data set was created to allow HR professionals to learn data analysis. One reason I chose this set is because I believe the data is good for creating visualizations and allowing me to learn data visualization. I retrieved this data set from kaggle. The link to the data set is: https://www.kaggle.com/datasets/rhuebner/human-resources-data-set\n"
   ]
  },
  {
   "attachments": {},
   "cell_type": "markdown",
   "metadata": {},
   "source": [
    "Data Exploration"
   ]
  },
  {
   "cell_type": "code",
   "execution_count": null,
   "metadata": {},
   "outputs": [],
   "source": [
    "#import pandas library\n",
    "import pandas as pd\n",
    "#import numpy library\n",
    "import numpy as np\n",
    "import matplotlib.pyplot as plt\n",
    "import seaborn as sns \n",
    "\n",
    "#load the \"hr data set\"\n",
    "hr_df = pd.read_csv ('https://raw.githubusercontent.com/GitHub-Vlad/Data-Science-Projects/main/Data%20Analysis%20in%20Python/HRDataset_v14.csv')\n",
    "\n",
    "#print the data set\n",
    "print(hr_df)\n",
    "\n",
    "#print the data types of the columns in the data set\n",
    "print(hr_df.info())\n",
    "\n",
    "#print the count of NaN values in the data set\n",
    "print(hr_df.isnull().sum().sum())\n",
    "\n",
    "#print the summary statistics of the data set\n",
    "print(hr_df.describe())"
   ]
  },
  {
   "attachments": {},
   "cell_type": "markdown",
   "metadata": {},
   "source": [
    "Data Wrangling"
   ]
  },
  {
   "cell_type": "code",
   "execution_count": null,
   "metadata": {},
   "outputs": [],
   "source": [
    "#change the \"MaritialDesc\" column name to \"Marital_Status\"\n",
    "hr_df.rename(columns={\"MaritalDesc\": \"Marital_Status\"},inplace = True)\n",
    "\n",
    "#change the \"Zip\"column name to \"Zip_Code\"\n",
    "hr_df.rename(columns={\"Zip\": \"Zip_Code\"},inplace = True)\n",
    "\n",
    "#create a new column called \"Satisifaction_Level\" if EmpSatisfaction > 3 high else low\n",
    "criteria = [(hr_df['EmpSatisfaction'] <= 3),(hr_df['EmpSatisfaction']  > 3) ]\n",
    "values = ['No','yes']\n",
    "hr_df['Satisfaction_Level'] = np.select(criteria, values)\n",
    "\n",
    "#drop the \"DaysLateLast30\" column from my data set\n",
    "del hr_df[\"DaysLateLast30\"]\n",
    "\n",
    "#drop the 15th and 16th rows from the data set\n",
    "hr_df.drop([15,16], axis=0, inplace=True)\n",
    "\n",
    "#sorting on the \"Position\" column in ascending order and \"State\" column in descending order\n",
    "hr_df.sort_values(['Position', 'State'],ascending = [True, False])\n",
    "\n",
    "#filtering for all employees whose salary is greater than 62000 and who is a US Citizen\n",
    "hr_df = hr_df[(hr_df.Salary > 62000) & (hr_df.CitizenDesc == \"US Citizen\")]\n",
    "\n",
    "#filtering all employees who reside in Virginia(VA) and are Area Sales Manager\n",
    "hr_df = hr_df[(hr_df.State == \"VA\") & (hr_df.Position == \"Area Sales Manager\")]\n",
    "\n",
    "#convert all values in the ManagerName column to lower case\n",
    "hr_df['ManagerName'].str.lower()\n",
    "\n",
    "#Find the mean, min and max values of Salary\n",
    "hr_df.groupby('Salary').mean()\n",
    "hr_df.groupby('Salary').min()\n",
    "hr_df.groupby('Salary').max()"
   ]
  },
  {
   "attachments": {},
   "cell_type": "markdown",
   "metadata": {},
   "source": [
    "Visualizations"
   ]
  },
  {
   "attachments": {},
   "cell_type": "markdown",
   "metadata": {},
   "source": [
    "Part1: Matplotlib"
   ]
  },
  {
   "attachments": {},
   "cell_type": "markdown",
   "metadata": {},
   "source": [
    "Scatter Plot: \n",
    "\n",
    "I will create a scatter plot which shows the correlation between Employee Salary and Employee Satisfaction with their performance score. I want to see how well an employee performs based on several factors like work environment, job type as well as well as compensation. Thus,the question here is: Does a high salary and job satisfaction lead to better employee performance?"
   ]
  },
  {
   "cell_type": "code",
   "execution_count": null,
   "metadata": {},
   "outputs": [],
   "source": [
    "#load the \"hr data set\"\n",
    "hr_df = pd.read_csv ('https://raw.githubusercontent.com/GitHub-Vlad/Data-Science-Projects/main/Data%20Analysis%20in%20Python/HRDataset_v14.csv')\n",
    "\n",
    "#plot and show scatter plot \n",
    "plt.scatter( hr_df.Salary,hr_df.EmpSatisfaction, c=hr_df.PerformanceScore.astype('category').cat.codes)\n",
    "plt.title('Performance')\n",
    "plt.xlabel('Salary')\n",
    "plt.ylabel('Satisfaction')\n",
    "plt.show()\n",
    "\n",
    "#create a legend for the scatter plot -- place it in the upper right hand corner\n",
    "scatter = plt.scatter( hr_df.Salary,hr_df.EmpSatisfaction, c=hr_df.PerformanceScore.astype('category').cat.codes)\n",
    "perform_names = [\"Exceeds\",\"Fully Meets\",\"Needs Improvement\",\"PIP\"]\n",
    "plt.legend(fontsize = \"7\",handles=scatter.legend_elements()[0], loc=\"upper right\",\n",
    "labels = perform_names,title=\"Employee Performance\")\n",
    "plt.title('Performance')\n",
    "plt.xlabel('Salary')\n",
    "plt.ylabel('Satisfaction')\n",
    "plt.show()\n",
    "\n",
    "#create a legend for the scatter plot -- place it in the lower right hand corner\n",
    "scatter = plt.scatter( hr_df.Salary,hr_df.EmpSatisfaction, \n",
    "c=hr_df.PerformanceScore.astype('category').cat.codes)\n",
    "perform_names = [\"Exceeds\",\"Fully Meets\",\"Needs Improvement\",\"PIP\"]\n",
    "plt.legend(fontsize = \"12\",handles=scatter.legend_elements()[0], loc=\"lower right\",\n",
    "labels = perform_names,title=\"Employee Performance\")\n",
    "plt.title('Performance')\n",
    "plt.xlabel('Salary')\n",
    "plt.ylabel('Satisfaction')\n",
    "plt.show()\n",
    "\n",
    "#Place legend outside of the plot\n",
    "scatter = plt.scatter( hr_df.Salary,hr_df.EmpSatisfaction, \n",
    "c=hr_df.PerformanceScore.astype('category').cat.codes)\n",
    "perform_names = [\"Exceeds\",\"Fully Meets\",\"Needs Improvement\",\"PIP\"]\n",
    "plt.legend(bbox_to_anchor=(1.05, 1.0),fontsize = \"12\",handles=scatter.legend_elements()[0], loc=\"lower right\",\n",
    "labels = perform_names,title=\"Employee Performance\")\n",
    "plt.tight_layout()\n",
    "plt.title('Performance')\n",
    "plt.xlabel('Salary')\n",
    "plt.ylabel('Satisfaction')\n",
    "plt.show()\n",
    "\n",
    "#changing titles and the x/y labels\n",
    "scatter = plt.scatter( hr_df.Salary,hr_df.EmpSatisfaction, c=hr_df.PerformanceScore.astype('category').cat.codes)\n",
    "perform_names = [\"Exceeds\",\"Fully Meets\",\"Needs Improvement\",\"PIP\"]\n",
    "plt.legend(bbox_to_anchor=(1.05, 1.0),fontsize = \"12\",handles=scatter.legend_elements()[0], loc=\"lower right\",\n",
    "labels = perform_names,title=\"Employee Performance\")\n",
    "plt.tight_layout()\n",
    "plt.title('Employee Performance')\n",
    "plt.xlabel('Employee Salary')\n",
    "plt.ylabel('Employee Satisfaction')\n",
    "plt.show()\n",
    "\n",
    "#changing font size of the x and y ticks\n",
    "scatter = plt.scatter( hr_df.Salary,hr_df.EmpSatisfaction, c=hr_df.PerformanceScore.astype('category').cat.codes)\n",
    "perform_names = [\"Exceeds\",\"Fully Meets\",\"Needs Improvement\",\"PIP\"]\n",
    "plt.legend(bbox_to_anchor=(1.05, 1.0),fontsize = \"12\",handles=scatter.legend_elements()[0], loc=\"lower right\",\n",
    "labels = perform_names,title=\"Employee Performance\")\n",
    "plt.tight_layout()\n",
    "plt.title('Employee Performance')\n",
    "plt.xlabel('Employee Salary')\n",
    "plt.ylabel('Employee Satisfaction')\n",
    "plt.xticks(fontsize=12)\n",
    "plt.yticks(fontsize=12)\n",
    "plt.show()\n",
    "\n",
    "#changing size of axis labels\n",
    "scatter = plt.scatter( hr_df.Salary,hr_df.EmpSatisfaction, c=hr_df.PerformanceScore.astype('category').cat.codes)\n",
    "perform_names = [\"Exceeds\",\"Fully Meets\",\"Needs Improvement\",\"PIP\"]\n",
    "plt.legend(bbox_to_anchor=(1.05, 1.0),fontsize = \"12\",handles=scatter.legend_elements()[0], loc=\"lower right\",\n",
    "labels = perform_names,title=\"Employee Performance\")\n",
    "plt.tight_layout()\n",
    "plt.title('Employee Performance',fontsize=16)\n",
    "plt.xlabel('Employee Salary',fontsize=14)\n",
    "plt.ylabel('Employee Satisfaction',fontsize=14)\n",
    "plt.xticks(fontsize=12)\n",
    "plt.yticks(fontsize=12)\n",
    "plt.show()"
   ]
  },
  {
   "attachments": {},
   "cell_type": "markdown",
   "metadata": {},
   "source": [
    "Analysis:\n",
    "\n",
    "After creating a scatter plot, I was able to see some correlation between employee salary, employee satisfaction and employee performance. I believe, if I filtered out for specific positions, I would have seen more of a correlation in some more than others, however, I wanted to see an overll trend. In any case, I did see a trend. I partiular, as job satisfaction went up and salary went up and employee's performance either goes at \"Fully Meets\" to \"Exceeds\" as we see from salary 150,000 to around 200,000. We also see from \"Needs Improvement\" to \"Fully Meets\" on several occasions, such as from about 70,000 where Employee: \"Needs Improvement\" and has a lower employee satisfaction(2.0) to a salary of over 100,000 and employee satisfaction of 3.0. In conclusion, I belive there is a positive correlation between employee satisfaction, employee performance and employee salary."
   ]
  },
  {
   "attachments": {},
   "cell_type": "markdown",
   "metadata": {},
   "source": [
    "Bar plot:"
   ]
  },
  {
   "attachments": {},
   "cell_type": "markdown",
   "metadata": {},
   "source": [
    "I will create a bar plot which shows the relationship between employee salary,employee gender employee position. To be more specific. I would like to do this for the following positions: Data Analyst,Database Administrator,Production Technician I,Data Architect,Accountant !, BI Developer. Some questions I would like answered in my analysis would include: On average,which gender makes more money at the Production Technician I position? On average, which position pays below 60000 for both genders?\n"
   ]
  },
  {
   "cell_type": "code",
   "execution_count": null,
   "metadata": {},
   "outputs": [],
   "source": [
    "\n",
    "\n",
    "#load the \"hr data set\"\n",
    "hr_df = pd.read_csv ('https://raw.githubusercontent.com/GitHub-Vlad/Data-Science-Projects/main/Data%20Analysis%20in%20Python/HRDataset_v14.csv')\n",
    "\n",
    "#Prepare data for plotting\n",
    "hr_df_bar = hr_df[hr_df.Position.isin(['Data Analyst','Database Administrator','BI Developer',\n",
    "'Production Technician I','Accountant I'])]\n",
    "hr_df_bar_plot = hr_df_bar.groupby(['Position','Sex'])['Salary'].mean().reset_index()\n",
    "female = hr_df_bar_plot[hr_df_bar_plot['Sex'] == 'F']\n",
    "male = hr_df_bar_plot[hr_df_bar_plot['Sex'] == 'M ']\n",
    "\n",
    "#setting the x-axis widths for plotting\n",
    "x_pos = np.arange(len(male))\n",
    "tick_labels = ['Data Analyst','Database Administrator','BI Developer','Production Technician I','Accountant I']\n",
    "\n",
    "#Plotting \n",
    "plt.figure(figsize=(10, 410))\n",
    "plt.bar(x_pos - 0.2, female['Salary'], width=0.4, label='Female')\n",
    "plt.bar(x_pos + 0.2, male['Salary'], width=0.4, label='Male')\n",
    "plt.xticks(x_pos, tick_labels)\n",
    "plt.title('Average Salary by Positon and Gender')\n",
    "plt.xlabel('Position')\n",
    "plt.ylabel('Salary')\n",
    "plt.legend()\n",
    "plt.show()\n",
    "\n",
    "#Place legend outside of the plot\n",
    "plt.figure(figsize=(10, 410))\n",
    "plt.bar(x_pos - 0.2, female['Salary'], width=0.4, label='Female')\n",
    "plt.bar(x_pos + 0.2, male['Salary'], width=0.4, label='Male')\n",
    "plt.xticks(x_pos, tick_labels)\n",
    "plt.title('Average Salary by Positon and Gender')\n",
    "plt.xlabel('Position')\n",
    "plt.ylabel('Salary')\n",
    "plt.legend(bbox_to_anchor=(1.0, 0.5))\n",
    "plt.show()\n",
    "\n",
    "\n",
    "#changing titles and the x/y labels\n",
    "plt.figure(figsize=(10, 410))\n",
    "plt.bar(x_pos - 0.2, female['Salary'], width=0.4, label='Female')\n",
    "plt.bar(x_pos + 0.2, male['Salary'], width=0.4, label='Male')\n",
    "plt.xticks(x_pos, tick_labels)\n",
    "plt.title('Average Salary by Positon and Gender')\n",
    "plt.xlabel('Employee Position')\n",
    "plt.ylabel('Employee Salary')\n",
    "plt.legend(bbox_to_anchor=(1.0, 0.5))\n",
    "plt.show()"
   ]
  },
  {
   "attachments": {},
   "cell_type": "markdown",
   "metadata": {},
   "source": [
    "Analysis:"
   ]
  },
  {
   "attachments": {},
   "cell_type": "markdown",
   "metadata": {},
   "source": [
    "In my analysis, I create a grouped bar plot to gage a relationship between employee salary, employee position and employee gender. Interestingly enough, on average, males made more money in postions such as: Data Analyst and production Technician. Females make more money in the positions:Database Administrator, BI Developer and Accountant. It is important to know that the difference between these, on avearage is minimal. It is also important to know that our HR dataset contained 136 male employees and 177 female employees, this helped boost average saleries of female employees slightly above female. employees. I also noticed, that for the Production \n",
    "Technicial I positon, males had a much greater salary in average than females. Finally, from our dataset atleast, on average,the data analyst position makes the least amount of money and the Production Technician makes the most money among both genders. "
   ]
  },
  {
   "attachments": {},
   "cell_type": "markdown",
   "metadata": {},
   "source": [
    "Line Chart:"
   ]
  },
  {
   "attachments": {},
   "cell_type": "markdown",
   "metadata": {},
   "source": [
    "I will now create a line chart. I want to see if there is any relationship/trend between an Employee Satisfaction and Employee Engagement for a Data Analyst. In other words, I want to find out: Is an employee who is engagaed in their work also satisfied with their job? "
   ]
  },
  {
   "cell_type": "code",
   "execution_count": null,
   "metadata": {},
   "outputs": [],
   "source": [
    "#load the \"hr data set\"\n",
    "hr_df = pd.read_csv ('https://raw.githubusercontent.com/GitHub-Vlad/Data-Science-Projects/main/Data%20Analysis%20in%20Python/HRDataset_v14.csv')\n",
    "\n",
    "#prepare data for plotting\n",
    "hr_df = hr_df[hr_df.Position.isin(['Data Analyst'])]\n",
    "Engagement = hr_df[['EngagementSurvey']]\n",
    "Satisfaction = hr_df[['EmpSatisfaction']]\n",
    "\n",
    "#plot\n",
    "plt.plot(Engagement,Satisfaction)\n",
    "plt.title('Data Analyst:Engagement vs Satisfaction')\n",
    "plt.xlabel('Engagement')\n",
    "plt.ylabel('Satisfaction')\n",
    "plt.show()\n",
    "\n",
    "#reverse the x and y axis\n",
    "plt.plot(Satisfaction,Engagement)\n",
    "plt.title('Data Analyst:Engagement vs Satisfaction')\n",
    "plt.xlabel('Satisfaction')\n",
    "plt.ylabel('Engagement')\n",
    "plt.show()\n",
    "\n",
    "#change the color of the line to green\n",
    "plt.plot(Satisfaction,Engagement,color = 'green')\n",
    "plt.title('Data Analyst:Engagement vs Satisfaction')\n",
    "plt.xlabel('Satisfaction')\n",
    "plt.ylabel('Engagement')\n",
    "plt.show()"
   ]
  },
  {
   "attachments": {},
   "cell_type": "markdown",
   "metadata": {},
   "source": [
    "Analysis:"
   ]
  },
  {
   "attachments": {},
   "cell_type": "markdown",
   "metadata": {},
   "source": [
    "In my analysis I wanted to see if there is any correlation between employee satisfaction and employee engagement, in particular to the Data Analyst position. Although not fully, I did see areas of a straight line with a positive correlation between the two variables. Another words, for an increasing employee engagement there was a higher level of satisfaction amongst employees."
   ]
  },
  {
   "attachments": {},
   "cell_type": "markdown",
   "metadata": {},
   "source": [
    "Part 2: Seaborn library"
   ]
  },
  {
   "attachments": {},
   "cell_type": "markdown",
   "metadata": {},
   "source": [
    "Scatterplot: "
   ]
  },
  {
   "attachments": {},
   "cell_type": "markdown",
   "metadata": {},
   "source": [
    "I will create a scatter plot which shows the correlation between Employee Salary and Employee Satisfaction with their performance score. I want to see how well an employee performs based on several factors like work environment, job type as well as well as compensation. Thus,the question here is: Does a high salary and job satisfaction lead to better employee performance?"
   ]
  },
  {
   "cell_type": "code",
   "execution_count": null,
   "metadata": {},
   "outputs": [],
   "source": [
    "#load the \"hr data set\"\n",
    "hr_df = pd.read_csv ('https://raw.githubusercontent.com/GitHub-Vlad/Data-Science-Projects/main/Data%20Analysis%20in%20Python/HRDataset_v14.csv')\n",
    "\n",
    "#plot and show scatterplot\n",
    "sns.scatterplot(data=hr_df , x=\"Salary\", y=\"EmpSatisfaction\",\n",
    "c=hr_df.PerformanceScore.astype('category').cat.codes)\n",
    "plt.show()\n",
    "\n",
    "#create a legend for the scatter plot -- place it in the upper right hand corner\n",
    "perform_names = [\"Exceeds\",\"Fully Meets\",\"Needs Improvement\",\"PIP\"]\n",
    "scatter = sns.scatterplot(data=hr_df , x=\"Salary\", y=\"EmpSatisfaction\",\n",
    "c=hr_df.PerformanceScore.astype('category').cat.codes,hue=\"PerformanceScore\")\n",
    "sns.move_legend(scatter, \"upper right\")\n",
    "plt.show()\n",
    "\n",
    "#create a legend for the scatter plot -- place it in the lower right hand corner\n",
    "perform_names = [\"Exceeds\",\"Fully Meets\",\"Needs Improvement\",\"PIP\"]\n",
    "scatter = sns.scatterplot(data=hr_df , x=\"Salary\", y=\"EmpSatisfaction\",\n",
    "c=hr_df.PerformanceScore.astype('category').cat.codes,hue=\"PerformanceScore\")\n",
    "sns.move_legend(scatter, \"lower right\")\n",
    "plt.show()\n",
    "\n",
    "\n",
    "#Place legend outside of the plot\n",
    "perform_names = [\"Exceeds\",\"Fully Meets\",\"Needs Improvement\",\"PIP\"]\n",
    "scatter = sns.scatterplot(data=hr_df , x=\"Salary\", y=\"EmpSatisfaction\",\n",
    "c=hr_df.PerformanceScore.astype('category').cat.codes,hue=\"PerformanceScore\")\n",
    "sns.move_legend(scatter, \"upper right\")\n",
    "plt.legend(bbox_to_anchor=(1.02, 1.1),loc =2)\n",
    "plt.tight_layout()\n",
    "plt.show()\n",
    "\n",
    "#changing titles and the x/y labels\n",
    "perform_names = [\"Exceeds\",\"Fully Meets\",\"Needs Improvement\",\"PIP\"]\n",
    "scatter = sns.scatterplot(data=hr_df , x=\"EmpSatisfaction\", y=\"Salary\",\n",
    "c=hr_df.PerformanceScore.astype('category').cat.codes,hue=\"PerformanceScore\")\n",
    "sns.move_legend(scatter, \"upper right\")\n",
    "plt.legend(bbox_to_anchor=(1.02, 1.1),loc =2)\n",
    "plt.tight_layout()\n",
    "plt.show()\n",
    "\n",
    "#changing font size of the x and y ticks\n",
    "perform_names = [\"Exceeds\",\"Fully Meets\",\"Needs Improvement\",\"PIP\"]\n",
    "scatter = sns.scatterplot(data=hr_df , x=\"EmpSatisfaction\", y=\"Salary\",\n",
    "c=hr_df.PerformanceScore.astype('category').cat.codes,hue=\"PerformanceScore\")\n",
    "sns.move_legend(scatter, \"upper right\")\n",
    "plt.legend(bbox_to_anchor=(1.02, 1.1),loc =2)\n",
    "plt.tight_layout()\n",
    "plt.xticks(fontsize=12)\n",
    "plt.yticks(fontsize=12)\n",
    "plt.show()"
   ]
  },
  {
   "attachments": {},
   "cell_type": "markdown",
   "metadata": {},
   "source": [
    "Analysis:"
   ]
  },
  {
   "attachments": {},
   "cell_type": "markdown",
   "metadata": {},
   "source": [
    "After creating a scatter plot, I was able to see some correlation between employee salary, employee satisfaction and employee performance. I believe, if I filtered out for specific positions, I would have seen more of a correlation in some more than others, however, I wanted to see an overll trend. In any case, I did see a trend. I partiular, as job satisfaction went up and salary went up and employee's performance either goes at \"Fully Meets\" to \"Exceeds\" as we see from salary 150,000 to around 200,000. We also see from \"Needs Improvement\" to \"Fully Meets\" on several occasions, such as from about 70,000 where Employee: \"Needs Improvement\" and has a lower employee satisfaction(2.0) to a salary of over 100,000 and employee satisfaction of 3.0. In conclusion, I belive there is a positive correlation between employee satisfaction, employee performance and employee salary."
   ]
  },
  {
   "attachments": {},
   "cell_type": "markdown",
   "metadata": {},
   "source": [
    "Bar Plot:"
   ]
  },
  {
   "attachments": {},
   "cell_type": "markdown",
   "metadata": {},
   "source": [
    "I will create a bar plot which shows the relationship between employee salary,employee gender employee position. To be more specific. I would like to do this for the following positions: Data Analyst,Database Administrator,Production Technician I,Data Architect. Some questions I would like answered in my analysis would include: On average,which gender makes more money at the Production Technician I position? On average, which position pays below 60000 for both genders?"
   ]
  },
  {
   "cell_type": "code",
   "execution_count": null,
   "metadata": {},
   "outputs": [],
   "source": [
    "#load the \"hr data set\"\n",
    "hr_df = pd.read_csv ('https://raw.githubusercontent.com/GitHub-Vlad/Data-Science-Projects/main/Data%20Analysis%20in%20Python/HRDataset_v14.csv')\n",
    "\n",
    "#Prepare data for plotting\n",
    "hr_df_bar = hr_df[hr_df.Position.isin(['Data Analyst','Database Administrator','BI Developer',\n",
    "'Production Technician I','Accountant I'])]\n",
    "hr_df_bar_plot = hr_df_bar.groupby(['Position','Sex'])['Salary'].mean().reset_index()\n",
    "\n",
    "#Plotting\n",
    "sns.barplot(x='Position', y='Salary', hue='Sex', data=hr_df_bar_plot, palette=['blue', 'orange'])\n",
    "plt.title('Average Salary by Positon and Gender')\n",
    "plt.xlabel('Position')\n",
    "plt.ylabel('Salary')\n",
    "plt.show()\n",
    "\n",
    "\n",
    "#Place legend outside of the plot\n",
    "sns.barplot(x='Position', y='Salary', hue='Sex', data=hr_df_bar_plot, palette=['blue', 'orange'])\n",
    "plt.legend(bbox_to_anchor=(1.0, 0.5))\n",
    "plt.title('Average Salary by Positon and Gender')\n",
    "plt.xlabel('Position')\n",
    "plt.ylabel('Salary')\n",
    "plt.show()\n",
    "\n",
    "#changing titles and the x/y labels\n",
    "sns.barplot(x='Salary', y='Position', hue='Sex', data=hr_df_bar_plot, palette=['blue', 'orange'])\n",
    "plt.legend(bbox_to_anchor=(1.0, 0.5))\n",
    "plt.title('Average Salary by Positon and Gender')\n",
    "plt.xlabel('Position')\n",
    "plt.ylabel('Salary')\n",
    "plt.show()\n",
    "\n",
    "#adding annotations\n",
    "bar = sns.barplot(x='Position', y='Salary', hue='Sex', data=hr_df_bar_plot, palette=['blue', 'orange'])\n",
    "for b in bar.patches:\n",
    "    bar.annotate(format(b.get_height(), '.0f'), (b.get_x() + b.get_width() / 2.,\n",
    "     b.get_height()), ha = 'center', va = 'center', \n",
    "                   size=15,\n",
    "                   xytext = (0, -12), \n",
    "                   textcoords = 'offset points')\n",
    "plt.legend(bbox_to_anchor=(1.0, 0.5))\n",
    "plt.show()\n"
   ]
  },
  {
   "attachments": {},
   "cell_type": "markdown",
   "metadata": {},
   "source": [
    "Analysis:"
   ]
  },
  {
   "attachments": {},
   "cell_type": "markdown",
   "metadata": {},
   "source": [
    "In my analysis, I create a grouped bar plot to gage a relationship between employee salary, employee position and employee gender. Interestingly enough, on average, males made more money in postions such as: Data Analyst and production Technician. Females make more money in the positions:Database Administrator, BI Developer and Accountant. It is important to know that the difference between these, on avearage is minimal. It is also important to know that our HR dataset contained 136 male employees and 177 female employees, this helped boost average saleries of female employees slightly above female. employees. I also noticed, that for the Production \n",
    "Technicial I positon, males had a much greater salary in average than females. Finally, from our dataset atleast, on average,the data analyst position makes the least amount of money and the Production Technician makes the most money among both genders. "
   ]
  },
  {
   "attachments": {},
   "cell_type": "markdown",
   "metadata": {},
   "source": [
    "Line Chart:"
   ]
  },
  {
   "attachments": {},
   "cell_type": "markdown",
   "metadata": {},
   "source": [
    "I will now create a line chart. I want to see if there is any relationship/trend between an Employee Satisfaction and Employee Engagement for a Data Analyst. In other words, I want to find out: Is an employee who is engagaed in their work also satisfied with their job? "
   ]
  },
  {
   "cell_type": "code",
   "execution_count": null,
   "metadata": {},
   "outputs": [],
   "source": [
    "\n",
    "#load the \"hr data set\"\n",
    "hr_df = pd.read_csv ('https://raw.githubusercontent.com/GitHub-Vlad/Data-Science-Projects/main/Data%20Analysis%20in%20Python/HRDataset_v14.csv')\n",
    "\n",
    "\n",
    "#prepare data for plotting\n",
    "hr_df = hr_df[hr_df.Position.isin(['Data Analyst'])]\n",
    "\n",
    "#plotting\n",
    "sns.lineplot( x = \"EngagementSurvey\", y = \"EmpSatisfaction\",data = hr_df);\n",
    "plt.title('Engagement vs Satisfaction')\n",
    "plt.xlabel('Engagement')\n",
    "plt.ylabel('Satisfaction')\n",
    "plt.show()\n",
    "\n",
    "#reverse the x and y axis\n",
    "sns.lineplot( x = \"EmpSatisfaction\", y = \"EngagementSurvey\",data = hr_df);\n",
    "plt.title('Engagement vs Satisfaction')\n",
    "plt.xlabel('Engagement')\n",
    "plt.ylabel('Satisfaction')\n",
    "plt.show()\n",
    "\n",
    "#changing color of line\n",
    "sns.lineplot( x = \"EngagementSurvey\", y = \"EmpSatisfaction\",data = hr_df,color = 'green');\n",
    "plt.title('Data Analyst:Engagement vs Satisfaction')\n",
    "plt.xlabel('Engagement')\n",
    "plt.ylabel('Satisfaction')\n",
    "plt.show()\n"
   ]
  },
  {
   "attachments": {},
   "cell_type": "markdown",
   "metadata": {},
   "source": [
    "Analysis:"
   ]
  },
  {
   "attachments": {},
   "cell_type": "markdown",
   "metadata": {},
   "source": [
    "In my analysis I wanted to see if there is any correlation between employee satisfaction and employee engagement, in particular to the Data Analyst position. Although not fully, I did see areas of a straight line with a positive correlation between the two variables. Another words, for an increasing employee engagement there was a higher level of satisfaction amongst employees."
   ]
  },
  {
   "attachments": {},
   "cell_type": "markdown",
   "metadata": {},
   "source": [
    "Part 3: "
   ]
  },
  {
   "attachments": {},
   "cell_type": "markdown",
   "metadata": {},
   "source": [
    "In a comment or text box, explain the differences between creating a plot in matplotlib and seaborn, based on your above plots."
   ]
  },
  {
   "attachments": {},
   "cell_type": "markdown",
   "metadata": {},
   "source": [
    "To analyze the differenceds between matplotlib and seaborn, it is important to understand that the seaborn library is built on top of the matplotlib library. This by default would mean that creating plots in matplotlib would require more lines of code than in seaborn. Looking at the graphs in both this certainly holds true. A simple one-liner using seaborn can  take various lines in matplotlib. I would also like to note that the two can be integrated. We use the .plot() function from matplotlib even when using the seaborn library."
   ]
  },
  {
   "attachments": {},
   "cell_type": "markdown",
   "metadata": {},
   "source": [
    "Conclusions:"
   ]
  },
  {
   "attachments": {},
   "cell_type": "markdown",
   "metadata": {},
   "source": [
    "This hr data set was a good data set to perform analysis on. I believe that it contained a variety of good variables, such as, employee satisfaction, employee performance. This allowed me to answer a good amount of questions about the data. "
   ]
  }
 ],
 "metadata": {
  "kernelspec": {
   "display_name": "Python 3",
   "language": "python",
   "name": "python3"
  },
  "language_info": {
   "name": "python",
   "version": "3.11.1"
  },
  "orig_nbformat": 4,
  "vscode": {
   "interpreter": {
    "hash": "7e1d02254385da6e094d6779255bde6dc90ba5e2040a794b62266e285d37f266"
   }
  }
 },
 "nbformat": 4,
 "nbformat_minor": 2
}
